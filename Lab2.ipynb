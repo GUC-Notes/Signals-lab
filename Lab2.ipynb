{
 "cells": [
  {
   "cell_type": "code",
   "execution_count": 3,
   "id": "subtle-spirituality",
   "metadata": {},
   "outputs": [],
   "source": [
    "import numpy as np\n",
    "import matplotlib.pyplot as plt"
   ]
  },
  {
   "cell_type": "code",
   "execution_count": 27,
   "id": "compressed-athens",
   "metadata": {},
   "outputs": [],
   "source": [
    "def x_shift(x_range,shift):\n",
    "    n = np.arange(- x_range, x_range)\n",
    "    x = np.zeros(n.size, dtype=int)\n",
    "    x[n.size // 2  + shift] = 1 \n",
    "    plt.stem(n,x)"
   ]
  },
  {
   "cell_type": "code",
   "execution_count": 28,
   "id": "manufactured-player",
   "metadata": {
    "scrolled": true
   },
   "outputs": [
    {
     "data": {
      "image/png": "[encoded data removed]",
      "text/plain": [
       "<Figure size 432x288 with 1 Axes>"
      ]
     },
     "metadata": {
      "needs_background": "light"
     },
     "output_type": "display_data"
    }
   ],
   "source": [
    "x_shift(5,0)"
   ]
  },
  {
   "cell_type": "code",
   "execution_count": 29,
   "id": "approved-influence",
   "metadata": {},
   "outputs": [
    {
     "data": {
      "image/png": "[encoded data removed]",
      "text/plain": [
       "<Figure size 432x288 with 1 Axes>"
      ]
     },
     "metadata": {
      "needs_background": "light"
     },
     "output_type": "display_data"
    }
   ],
   "source": [
    "x_shift(5,2)"
   ]
  },
  {
   "cell_type": "code",
   "execution_count": 30,
   "id": "likely-removal",
   "metadata": {},
   "outputs": [
    {
     "data": {
      "text/plain": [
       "<StemContainer object of 3 artists>"
      ]
     },
     "execution_count": 30,
     "metadata": {},
     "output_type": "execute_result"
    },
    {
     "data": {
      "image/png": "[encoded data removed]",
      "text/plain": [
       "<Figure size 432x288 with 1 Axes>"
      ]
     },
     "metadata": {
      "needs_background": "light"
     },
     "output_type": "display_data"
    }
   ],
   "source": [
    "n = np.arange(-5,5)\n",
    "x = np.reshape([n==2],np.shape(n))\n",
    "plt.stem(n,x)"
   ]
  },
  {
   "cell_type": "code",
   "execution_count": 31,
   "id": "extra-wrestling",
   "metadata": {},
   "outputs": [],
   "source": [
    "x = np.arange(-5,5)"
   ]
  },
  {
   "cell_type": "code",
   "execution_count": 21,
   "id": "alternative-tradition",
   "metadata": {},
   "outputs": [],
   "source": [
    "n =  np.zeros(10,dtype=int)\n",
    "n[5:10] = 5 * np.ones(5,dtype=int)"
   ]
  },
  {
   "cell_type": "code",
   "execution_count": 22,
   "id": "eight-reservoir",
   "metadata": {},
   "outputs": [
    {
     "data": {
      "text/plain": [
       "<StemContainer object of 3 artists>"
      ]
     },
     "execution_count": 22,
     "metadata": {},
     "output_type": "execute_result"
    },
    {
     "data": {
      "image/png": "[encoded data removed]",
      "text/plain": [
       "<Figure size 432x288 with 1 Axes>"
      ]
     },
     "metadata": {
      "needs_background": "light"
     },
     "output_type": "display_data"
    }
   ],
   "source": [
    "plt.stem(x,n)"
   ]
  },
  {
   "cell_type": "code",
   "execution_count": 23,
   "id": "distinct-former",
   "metadata": {},
   "outputs": [],
   "source": [
    "n = np.arange(-10,20)"
   ]
  },
  {
   "cell_type": "code",
   "execution_count": 24,
   "id": "consecutive-beverage",
   "metadata": {},
   "outputs": [],
   "source": [
    "x = np.reshape((0.9 ** (n - 3)) * [(n-3) >= 0] ,np.shape(n))\n"
   ]
  },
  {
   "cell_type": "code",
   "execution_count": 13,
   "id": "emerging-blank",
   "metadata": {},
   "outputs": [
    {
     "data": {
      "text/plain": [
       "<StemContainer object of 3 artists>"
      ]
     },
     "execution_count": 13,
     "metadata": {},
     "output_type": "execute_result"
    },
    {
     "data": {
      "image/png": "[encoded data removed]",
      "text/plain": [
       "<Figure size 432x288 with 1 Axes>"
      ]
     },
     "metadata": {
      "needs_background": "light"
     },
     "output_type": "display_data"
    }
   ],
   "source": [
    "plt.stem(n,x)"
   ]
  },
  {
   "cell_type": "code",
   "execution_count": 25,
   "id": "everyday-breathing",
   "metadata": {},
   "outputs": [],
   "source": [
    "k = np.zeros(30)\n",
    "f = lambda x : 0.9**(x-3)\n",
    "exp_array = np.array( [f(x) for x in range(3,20)])\n",
    "for i in range(0,17):\n",
    "    k[i + 13] = exp_array[i]"
   ]
  },
  {
   "cell_type": "code",
   "execution_count": 26,
   "id": "strong-symphony",
   "metadata": {
    "scrolled": true
   },
   "outputs": [
    {
     "data": {
      "text/plain": [
       "<StemContainer object of 3 artists>"
      ]
     },
     "execution_count": 26,
     "metadata": {},
     "output_type": "execute_result"
    },
    {
     "data": {
      "image/png": "[encoded data removed]",
      "text/plain": [
       "<Figure size 432x288 with 1 Axes>"
      ]
     },
     "metadata": {
      "needs_background": "light"
     },
     "output_type": "display_data"
    }
   ],
   "source": [
    "plt.stem(n,k)"
   ]
  },
  {
   "cell_type": "code",
   "execution_count": null,
   "id": "posted-probe",
   "metadata": {},
   "outputs": [],
   "source": []
  },
  {
   "cell_type": "code",
   "execution_count": null,
   "id": "authentic-testing",
   "metadata": {},
   "outputs": [],
   "source": []
  }
 ],
 "metadata": {
  "kernelspec": {
   "display_name": "Python 3",
   "language": "python",
   "name": "python3"
  },
  "language_info": {
   "codemirror_mode": {
    "name": "ipython",
    "version": 3
   },
   "file_extension": ".py",
   "mimetype": "text/x-python",
   "name": "python",
   "nbconvert_exporter": "python",
   "pygments_lexer": "ipython3",
   "version": "3.9.2"
  }
 },
 "nbformat": 4,
 "nbformat_minor": 5
}

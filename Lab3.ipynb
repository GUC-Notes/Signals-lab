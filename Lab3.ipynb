{
 "cells": [
  {
   "cell_type": "code",
   "execution_count": 5,
   "id": "chief-paper",
   "metadata": {},
   "outputs": [],
   "source": [
    "import numpy as np\n",
    "from numpy import piecewise\n",
    "import matplotlib.pyplot as plt\n"
   ]
  },
  {
   "cell_type": "code",
   "execution_count": 6,
   "id": "boolean-martin",
   "metadata": {},
   "outputs": [],
   "source": [
    "def add_num(first_num, seconed_num, third_num):\n",
    "    '''return sum of 3 integers'''\n",
    "    return first_num + seconed_num + third_num"
   ]
  },
  {
   "cell_type": "code",
   "execution_count": 7,
   "id": "directed-aggregate",
   "metadata": {},
   "outputs": [
    {
     "data": {
      "text/plain": [
       "6"
      ]
     },
     "execution_count": 7,
     "metadata": {},
     "output_type": "execute_result"
    }
   ],
   "source": [
    "add_num(1,2,3)"
   ]
  },
  {
   "cell_type": "code",
   "execution_count": 8,
   "id": "dense-mother",
   "metadata": {},
   "outputs": [],
   "source": [
    "n1 = [-0,1,2,3,4]"
   ]
  },
  {
   "cell_type": "code",
   "execution_count": 9,
   "id": "ahead-drilling",
   "metadata": {},
   "outputs": [],
   "source": [
    "n2 = [-2,-1,0,1,2]"
   ]
  },
  {
   "cell_type": "code",
   "execution_count": null,
   "id": "directed-bridges",
   "metadata": {},
   "outputs": [],
   "source": []
  },
  {
   "cell_type": "code",
   "execution_count": 10,
   "id": "configured-premises",
   "metadata": {},
   "outputs": [],
   "source": [
    "def unioun(lst1,lst2):\n",
    "    return sorted(list(set((lst1+lst2))))"
   ]
  },
  {
   "cell_type": "code",
   "execution_count": 11,
   "id": "corporate-surgeon",
   "metadata": {},
   "outputs": [],
   "source": [
    "x1 = np.array([0,1,2,3,4])\n",
    "x2 = np.array([2,2,2,2,2])"
   ]
  },
  {
   "cell_type": "code",
   "execution_count": 12,
   "id": "gentle-maximum",
   "metadata": {},
   "outputs": [],
   "source": [
    "def sigAdd(x1,x2,n1,n2):\n",
    "    n = np.array(unioun(n1,n2))\n",
    "    x1_new = np.zeros(n.size)\n",
    "    x2_new = np.zeros(n.size)\n",
    "    x1_new[(n >= min(n1))& (n<=max(n1))] = x1\n",
    "    x2_new[(n >= min(n2))& (n<=max(n2))] = x2\n",
    "    x = x1_new + x2_new \n",
    "    plt.stem(n,x)\n",
    "    return n, x"
   ]
  },
  {
   "cell_type": "code",
   "execution_count": 13,
   "id": "green-parallel",
   "metadata": {},
   "outputs": [
    {
     "data": {
      "text/plain": [
       "(array([-2, -1,  0,  1,  2,  3,  4]), array([2., 2., 2., 3., 4., 3., 4.]))"
      ]
     },
     "execution_count": 13,
     "metadata": {},
     "output_type": "execute_result"
    },
    {
     "data": {
      "image/png": "[encoded data removed]",
      "text/plain": [
       "<Figure size 432x288 with 1 Axes>"
      ]
     },
     "metadata": {
      "needs_background": "light"
     },
     "output_type": "display_data"
    }
   ],
   "source": [
    "sigAdd(x1,x2,n1,n2)"
   ]
  },
  {
   "cell_type": "code",
   "execution_count": null,
   "id": "renewable-report",
   "metadata": {},
   "outputs": [],
   "source": []
  },
  {
   "cell_type": "code",
   "execution_count": 14,
   "id": "recovered-instrument",
   "metadata": {},
   "outputs": [],
   "source": [
    "def sigMult(x1,x2,n1,n2):\n",
    "    n = np.array(unioun(n1,n2))\n",
    "    x1_new = np.zeros(n.size)\n",
    "    x2_new = np.zeros(n.size)\n",
    "    x1_new[(n >= min(n1))& (n<=max(n1))] = x1\n",
    "    x2_new[(n >= min(n2))& (n<=max(n2))] = x2\n",
    "    x = x1_new * x2_new \n",
    "    plt.stem(n,x)\n",
    "    return n, x"
   ]
  },
  {
   "cell_type": "code",
   "execution_count": 15,
   "id": "german-sound",
   "metadata": {},
   "outputs": [
    {
     "data": {
      "text/plain": [
       "(array([-2, -1,  0,  1,  2,  3,  4]), array([0., 0., 0., 2., 4., 0., 0.]))"
      ]
     },
     "execution_count": 15,
     "metadata": {},
     "output_type": "execute_result"
    },
    {
     "data": {
      "image/png": "[encoded data removed]",
      "text/plain": [
       "<Figure size 432x288 with 1 Axes>"
      ]
     },
     "metadata": {
      "needs_background": "light"
     },
     "output_type": "display_data"
    }
   ],
   "source": [
    "sigMult(x1,x2,n1,n2)"
   ]
  },
  {
   "cell_type": "code",
   "execution_count": 16,
   "id": "catholic-chart",
   "metadata": {},
   "outputs": [],
   "source": [
    "x1 = np.array([0,1,2,3,4])\n",
    "n1 = np.array([0,1,2,3,4])"
   ]
  },
  {
   "cell_type": "code",
   "execution_count": 17,
   "id": "innocent-shock",
   "metadata": {},
   "outputs": [],
   "source": [
    "def sigShift(x1,n1,n0):\n",
    "    x3 = n1+ n0\n",
    "    print(x3)\n",
    "    plt.stem(x3,x1)\n",
    "    "
   ]
  },
  {
   "cell_type": "code",
   "execution_count": 18,
   "id": "under-anxiety",
   "metadata": {},
   "outputs": [],
   "source": [
    "def shift(x1,n1,shift):\n",
    "    if(shift>0):\n",
    "        n2=np.arange(np.size(n1)+shift)\n",
    "    else:\n",
    "   \n",
    "        n2=np.arange(shift,np.size(n1))\n",
    "    \n",
    "    \n",
    "    x2=np.zeros(np.shape(n2))\n",
    "    min_new=min(n1)+shift\n",
    "    max_new=max(n2)+shift\n",
    "    x2[(n2>=min_new)&(n2<=max_new)]=x1\n",
    "    plt.stem(n2,x2)\n",
    "    return [n2,x2] \n",
    "\n"
   ]
  },
  {
   "cell_type": "code",
   "execution_count": 19,
   "id": "wanted-scanner",
   "metadata": {},
   "outputs": [
    {
     "data": {
      "text/plain": [
       "[array([0, 1, 2, 3, 4, 5, 6]), array([0., 0., 0., 1., 2., 3., 4.])]"
      ]
     },
     "execution_count": 19,
     "metadata": {},
     "output_type": "execute_result"
    },
    {
     "data": {
      "image/png": "[encoded data removed]",
      "text/plain": [
       "<Figure size 432x288 with 1 Axes>"
      ]
     },
     "metadata": {
      "needs_background": "light"
     },
     "output_type": "display_data"
    }
   ],
   "source": [
    "shift(n1,x1,2)"
   ]
  },
  {
   "cell_type": "code",
   "execution_count": 20,
   "id": "saved-cathedral",
   "metadata": {},
   "outputs": [
    {
     "name": "stdout",
     "output_type": "stream",
     "text": [
      "[2 3 4 5 6]\n"
     ]
    },
    {
     "data": {
      "image/png": "[encoded data removed]",
      "text/plain": [
       "<Figure size 432x288 with 1 Axes>"
      ]
     },
     "metadata": {
      "needs_background": "light"
     },
     "output_type": "display_data"
    }
   ],
   "source": [
    "sigShift(x1, n1, 2)"
   ]
  },
  {
   "cell_type": "code",
   "execution_count": 30,
   "id": "further-classics",
   "metadata": {},
   "outputs": [],
   "source": [
    "f = lambda x : x* np.heaviside(x,1) - x *np.heaviside(x-5,1)"
   ]
  },
  {
   "cell_type": "code",
   "execution_count": 31,
   "id": "55fc6f92",
   "metadata": {},
   "outputs": [],
   "source": [
    "g = [f(x) for x in range(-2,7)]"
   ]
  },
  {
   "cell_type": "code",
   "execution_count": 32,
   "id": "50895b31",
   "metadata": {},
   "outputs": [
    {
     "name": "stdout",
     "output_type": "stream",
     "text": [
      "[-12 -11 -10  -9  -8  -7  -6  -5  -4]\n"
     ]
    },
    {
     "data": {
      "image/png": "[encoded data removed]",
      "text/plain": [
       "<Figure size 432x288 with 1 Axes>"
      ]
     },
     "metadata": {
      "needs_background": "light"
     },
     "output_type": "display_data"
    }
   ],
   "source": [
    "sigShift(g,np.arange(-2,7),-10)"
   ]
  },
  {
   "cell_type": "code",
   "execution_count": 33,
   "id": "b3d4b63b",
   "metadata": {},
   "outputs": [
    {
     "name": "stdout",
     "output_type": "stream",
     "text": [
      "[0 1 2 3 4 5 6 7 8]\n"
     ]
    },
    {
     "data": {
      "image/png": "[encoded data removed]",
      "text/plain": [
       "<Figure size 432x288 with 1 Axes>"
      ]
     },
     "metadata": {
      "needs_background": "light"
     },
     "output_type": "display_data"
    }
   ],
   "source": [
    "sigShift(g,np.arange(-2,7),2)"
   ]
  },
  {
   "cell_type": "code",
   "execution_count": null,
   "id": "56444e48",
   "metadata": {},
   "outputs": [],
   "source": []
  },
  {
   "cell_type": "code",
   "execution_count": null,
   "id": "38a705ec",
   "metadata": {},
   "outputs": [],
   "source": []
  },
  {
   "cell_type": "code",
   "execution_count": null,
   "id": "0d622247",
   "metadata": {},
   "outputs": [],
   "source": []
  }
 ],
 "metadata": {
  "kernelspec": {
   "display_name": "Python 3",
   "language": "python",
   "name": "python3"
  },
  "language_info": {
   "codemirror_mode": {
    "name": "ipython",
    "version": 3
   },
   "file_extension": ".py",
   "mimetype": "text/x-python",
   "name": "python",
   "nbconvert_exporter": "python",
   "pygments_lexer": "ipython3",
   "version": "3.9.2"
  }
 },
 "nbformat": 4,
 "nbformat_minor": 5
}
